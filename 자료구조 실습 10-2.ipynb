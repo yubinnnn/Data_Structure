{
 "cells": [
  {
   "cell_type": "markdown",
   "metadata": {},
   "source": [
    "### 1. AVL 트리의 회전 연산"
   ]
  },
  {
   "cell_type": "code",
   "execution_count": 2,
   "metadata": {},
   "outputs": [],
   "source": [
    "# 우로 회전\n",
    "def rotate_right(self, n):\n",
    "    x = n.left\n",
    "    n.left = x.right\n",
    "    x.right = n\n",
    "    n.height = max(self.height(n.left), self.height(n.right)) + 1\n",
    "    x.height = max(self.height(x.left), self.height(x.right)) + 1\n",
    "    return x"
   ]
  },
  {
   "cell_type": "code",
   "execution_count": 3,
   "metadata": {},
   "outputs": [],
   "source": [
    "# 좌로 회전\n",
    "def rotate_left(self, n):\n",
    "    x = n.right\n",
    "    n.right = x.left\n",
    "    x.left = n\n",
    "    n.height = max(self.height(n.left), self.height(n.right)) + 1\n",
    "    x.height = max(self.height(x.left), self.height(x.right)) + 1\n",
    "    return x"
   ]
  },
  {
   "cell_type": "markdown",
   "metadata": {},
   "source": [
    "### 2. AVL 트리를 위한 NODE, AVL 클래스"
   ]
  },
  {
   "cell_type": "code",
   "execution_count": 6,
   "metadata": {},
   "outputs": [],
   "source": [
    "class Node:\n",
    "    def __init__(self, key, value, height, left = None, right=None):\n",
    "        self.key = key\n",
    "        self.value = value\n",
    "        self.height = height\n",
    "        self.left = left\n",
    "        self.right = right\n",
    "class AVL:\n",
    "    def __init__(self):\n",
    "        self.root = None\n",
    "    def height(self, n):\n",
    "        if n == None:\n",
    "            return 0\n",
    "        return n.height\n",
    "    def put(self, key, value):\n",
    "        self.root = self.put_item(self.root, key, value)\n",
    "    def balance(self, n):\n",
    "        if self.bf(n) > 1:\n",
    "            if self.bf(n.right) < 0:\n",
    "                n._left = self.rotate_left(n._left)\n",
    "            n = self.rotate_right(n)\n",
    "        elif self.bf(n) < -1 :\n",
    "            if self.bf(n._right) > 0:\n",
    "                n._right = self.rotate_right(n._right)\n",
    "            n = self.rotate_left(n)\n",
    "        return n\n",
    "    def bf(self, n):\n",
    "        return self.height(n._left) - self.height(n._right)\n",
    "    def put_item(self, n, key, value):\n",
    "        if n == None:\n",
    "            return Node(key, value, 1)\n",
    "        if n.key > key:\n",
    "            n.left = self.put_item(n.left, key, value)\n",
    "        elif n.key < key:\n",
    "            n.right = self.put_item(n.right, key, value)\n",
    "        else:\n",
    "            n.value = value\n",
    "            return n\n",
    "        n.height = max(self.height(n.left), self.height(n.right)) + 1\n",
    "        return self.balance(n)"
   ]
  },
  {
   "cell_type": "code",
   "execution_count": 10,
   "metadata": {},
   "outputs": [
    {
     "ename": "ModuleNotFoundError",
     "evalue": "No module named 'avl'",
     "output_type": "error",
     "traceback": [
      "\u001b[1;31m---------------------------------------------------------------------------\u001b[0m",
      "\u001b[1;31mModuleNotFoundError\u001b[0m                       Traceback (most recent call last)",
      "\u001b[1;32m<ipython-input-10-8752f6d26a23>\u001b[0m in \u001b[0;36m<module>\u001b[1;34m\u001b[0m\n\u001b[1;32m----> 1\u001b[1;33m \u001b[1;32mfrom\u001b[0m \u001b[0mavl\u001b[0m \u001b[1;32mimport\u001b[0m \u001b[0mAVL\u001b[0m\u001b[1;33m\u001b[0m\u001b[1;33m\u001b[0m\u001b[0m\n\u001b[0m\u001b[0;32m      2\u001b[0m \u001b[1;32mif\u001b[0m \u001b[0m__name__\u001b[0m \u001b[1;33m==\u001b[0m \u001b[1;34m\"__main__\"\u001b[0m\u001b[1;33m:\u001b[0m\u001b[1;33m\u001b[0m\u001b[1;33m\u001b[0m\u001b[0m\n\u001b[0;32m      3\u001b[0m     \u001b[0mt\u001b[0m \u001b[1;33m=\u001b[0m \u001b[0mAVL\u001b[0m\u001b[1;33m(\u001b[0m\u001b[1;33m)\u001b[0m\u001b[1;33m\u001b[0m\u001b[1;33m\u001b[0m\u001b[0m\n\u001b[0;32m      4\u001b[0m     \u001b[0mt\u001b[0m\u001b[1;33m.\u001b[0m\u001b[0mput\u001b[0m\u001b[1;33m(\u001b[0m\u001b[1;36m75\u001b[0m\u001b[1;33m,\u001b[0m \u001b[1;34m\"apple\"\u001b[0m\u001b[1;33m)\u001b[0m\u001b[1;33m\u001b[0m\u001b[1;33m\u001b[0m\u001b[0m\n\u001b[0;32m      5\u001b[0m     \u001b[0mt\u001b[0m\u001b[1;33m.\u001b[0m\u001b[0mput\u001b[0m\u001b[1;33m(\u001b[0m\u001b[1;36m80\u001b[0m\u001b[1;33m,\u001b[0m \u001b[1;34m\"grape\"\u001b[0m\u001b[1;33m)\u001b[0m\u001b[1;33m\u001b[0m\u001b[1;33m\u001b[0m\u001b[0m\n",
      "\u001b[1;31mModuleNotFoundError\u001b[0m: No module named 'avl'"
     ]
    }
   ],
   "source": [
    "from avl import AVL\n",
    "if __name__ == \"__main__\":\n",
    "    t = AVL()\n",
    "    t.put(75, \"apple\")\n",
    "    t.put(80, \"grape\")\n",
    "    t.put(85, \"lime\")\n",
    "    t.put(20, \"mango\")\n",
    "    t.put(10, \"strawberry\")\n",
    "    t.put(50, \"banana\")\n",
    "    t.put(30, \"cherry\")\n",
    "    t.put(40, \"watermelon\")\n",
    "    t.put(70, \"melon\")\n",
    "    t.put(90, \"plum\")"
   ]
  },
  {
   "cell_type": "code",
   "execution_count": null,
   "metadata": {},
   "outputs": [],
   "source": []
  }
 ],
 "metadata": {
  "kernelspec": {
   "display_name": "Python 3",
   "language": "python",
   "name": "python3"
  },
  "language_info": {
   "codemirror_mode": {
    "name": "ipython",
    "version": 3
   },
   "file_extension": ".py",
   "mimetype": "text/x-python",
   "name": "python",
   "nbconvert_exporter": "python",
   "pygments_lexer": "ipython3",
   "version": "3.8.3"
  }
 },
 "nbformat": 4,
 "nbformat_minor": 4
}
