{
 "cells": [
  {
   "cell_type": "markdown",
   "metadata": {},
   "source": [
    "## 덱\n",
    "- 스택이나 큐보다 입출력이 자유로운 자료구조\n",
    "- 전단과 후단에서 모두 삽입 삭제가 가능한 큐 => 여전히 중간에서 넣거나 빼지는 못함"
   ]
  },
  {
   "cell_type": "markdown",
   "metadata": {},
   "source": [
    "### 원형 큐"
   ]
  },
  {
   "cell_type": "code",
   "execution_count": 1,
   "metadata": {},
   "outputs": [],
   "source": [
    "MAX_QSIZE = 10\n",
    "class CircularQueue:\n",
    "    def __init__(self):\n",
    "        self.front = 0\n",
    "        self.rear = 0\n",
    "        self.items = [None] * MAX_QSIZE\n",
    "    def isEmpty(self):\n",
    "        return self.front == self.rear\n",
    "    def isFull(self):\n",
    "        return self.front == (self.rear+1)%MAX_QSIZE\n",
    "    def clear(self):\n",
    "        self.front = self.rear\n",
    "    def enqueue(self,item):\n",
    "        if not self.isFull():\n",
    "            self.rear = (self.rear+1)%MAX_QSIZE\n",
    "            self.items[self.rear] = item\n",
    "    def dequeue(self):\n",
    "        if not self.isEmpty():\n",
    "            self.front = (self.front+1)%MAX_QSIZE\n",
    "            return self.items[self.front]\n",
    "    def peek(self):\n",
    "        if not self.isEmpty():\n",
    "            return self.items[(self.front+1)%MAX_QSIZE]\n",
    "    def size(self):\n",
    "        return (self.rear - self.front + MAX_QSIZE) % MAX_QSIZE\n",
    "    def display(self):\n",
    "        out = []\n",
    "        if self.front < self.rear :\n",
    "            out = self.items[self.front+1:self.rear+1]\n",
    "        else:\n",
    "            out = self.items[self.front+1:MAX_QSIZE]+self.items[0:self.rear+1]\n",
    "        print(\"[f=%s,r=%d] ==> \"%(self.front, self.rear), out)"
   ]
  },
  {
   "cell_type": "markdown",
   "metadata": {},
   "source": [
    "### 덱의 구현"
   ]
  },
  {
   "cell_type": "code",
   "execution_count": 7,
   "metadata": {},
   "outputs": [],
   "source": [
    "class CircularDeque(CircularQueue): #CircularQueue에서 상속\n",
    "    def __init__(self):\n",
    "        super().__init__() #부모 클래스의 생성자를 호출함\n",
    "    def addRear(self, item):\n",
    "        self.enqueue(item)\n",
    "    def deleteFront(self):\n",
    "        return self.dequeue()\n",
    "    def getFront(self):\n",
    "        return self.peek()\n",
    "    def addFront(self, item):\n",
    "        if not self.isFull():\n",
    "            self.items[self.front] = item\n",
    "            self.front = self.front - 1\n",
    "            if self.front < 0 :\n",
    "                self.front = MAX_QSIZE - 1\n",
    "    def deleteRear(self):\n",
    "        if not self.isEmpty():\n",
    "            item = self.items[self.rear]\n",
    "            self.rear = self.rear - 1\n",
    "            if self.rear < 0:\n",
    "                self.rear = MAX_QSIZE - 1\n",
    "            return item\n",
    "    def getRear(self):\n",
    "        return self.items[self.rear]"
   ]
  },
  {
   "cell_type": "code",
   "execution_count": 9,
   "metadata": {},
   "outputs": [
    {
     "name": "stdout",
     "output_type": "stream",
     "text": [
      "[f=6,r=5] ==>  [7, 5, 3, 1, 0, 2, 4, 6, 8]\n",
      "[f=8,r=2] ==>  [3, 1, 0, 2]\n",
      "[f=3,r=2] ==>  [13, 12, 11, 10, 9, 3, 1, 0, 2]\n"
     ]
    }
   ],
   "source": [
    "dq = CircularDeque()\n",
    "for i in range(9):\n",
    "    if i%2==0:\n",
    "        dq.addRear(i)\n",
    "    else:\n",
    "        dq.addFront(i)\n",
    "dq.display()\n",
    "for i in range(2):\n",
    "    dq.deleteFront()\n",
    "for i in range(3):\n",
    "    dq.deleteRear()\n",
    "dq.display()\n",
    "for i in range(9,14):\n",
    "    dq.addFront(i)\n",
    "dq.display()"
   ]
  },
  {
   "cell_type": "markdown",
   "metadata": {},
   "source": [
    "### 우선순위 큐"
   ]
  },
  {
   "cell_type": "code",
   "execution_count": 10,
   "metadata": {},
   "outputs": [],
   "source": [
    "class PriorityQueue:\n",
    "    def __init__(self):\n",
    "        self.items = []\n",
    "    def isEmpty(self):\n",
    "        return len(self.items) == 0\n",
    "    def size(self):\n",
    "        return len(self.items)\n",
    "    def clear(self):\n",
    "        self.items = []\n",
    "    def enqueue(self,item):\n",
    "        self.items.append(item)\n",
    "    def findMaxIndex(self):\n",
    "        if self.isEmpty():\n",
    "            return None\n",
    "        else:\n",
    "            highest = 0\n",
    "            for i in range(1, self.size()):\n",
    "                if self.items[i] > self.items[highest]:\n",
    "                    highest = i\n",
    "            return highest\n",
    "    def dequeue(self):\n",
    "        highest = self.findMaxIndex()\n",
    "        if highest is not None:\n",
    "            return self.items.pop(highest)\n",
    "    def peek(self):\n",
    "        highest = findMaxIndex()\n",
    "        if highest is not None:\n",
    "            return self.items[highest]"
   ]
  },
  {
   "cell_type": "code",
   "execution_count": 11,
   "metadata": {},
   "outputs": [
    {
     "name": "stdout",
     "output_type": "stream",
     "text": [
      "PQueue: [34, 18, 27, 45, 15]\n",
      "Max Priority =  45\n",
      "Max Priority =  34\n",
      "Max Priority =  27\n",
      "Max Priority =  18\n",
      "Max Priority =  15\n"
     ]
    }
   ],
   "source": [
    "q = PriorityQueue()\n",
    "q.enqueue(34)\n",
    "q.enqueue(18)\n",
    "q.enqueue(27)\n",
    "q.enqueue(45)\n",
    "q.enqueue(15)\n",
    "\n",
    "print(\"PQueue:\", q.items)\n",
    "while not q.isEmpty():\n",
    "    print(\"Max Priority = \", q.dequeue())"
   ]
  },
  {
   "cell_type": "markdown",
   "metadata": {},
   "source": [
    "### 전략적 미로 탐색"
   ]
  },
  {
   "cell_type": "code",
   "execution_count": 19,
   "metadata": {},
   "outputs": [],
   "source": [
    "import math\n",
    "(ox,oy) = (5,4)\n",
    "def dist(x,y):\n",
    "    (dx,dy) = (ox-x,oy-y)\n",
    "    return math.sqrt(dx*dx+dy*dy)\n",
    "\n",
    "    def findMaxIndex(self):\n",
    "        if self.isEmpty():\n",
    "            return None\n",
    "        else:\n",
    "            highest = 0\n",
    "            for i in range(1, self.size()):\n",
    "                if self.items[i][2] > self.items[highest][2]:\n",
    "                    highest = i\n",
    "            return highest\n",
    "def isValidPos(x,y):\n",
    "    if x < 0 or y < 0 or x >= MAZE_SIZE or y >= MAZE_SIZE:\n",
    "        return False\n",
    "    else:\n",
    "        return map[y][x] == \"0\" or map[y][x] == \"x\"\n",
    "\n",
    "def MySmartSearch():\n",
    "    q = PriorityQueue()\n",
    "    q.enqueue((0,1,-dist(0,1)))\n",
    "    print(\"PQueue: \")\n",
    "    \n",
    "    while not q.isEmpty():\n",
    "        here = q.dequeue()\n",
    "        print(here[0:2], end=\"->\")\n",
    "        x,y,_ = here\n",
    "        if (map[y][x] == \"x\"):\n",
    "            return True\n",
    "        else:\n",
    "            map[y][x] = \".\"\n",
    "            if isValidPos(x,y-1):\n",
    "                q.enqueue((x,y-1,-dist(x,y-1)))\n",
    "            if isValidPos(x,y+1):\n",
    "                q.enqueue((x,y+1,-dist(x,y+1)))\n",
    "            if isValidPos(x-1,y):\n",
    "                q.enqueue((x-1,y,-dist(x-1,y)))\n",
    "            if isValidPos(x+1,y):\n",
    "                q.enqueue((x+1,y,-dist(x+1,y)))\n",
    "        print(\"우선순위큐: \", q.items)\n",
    "    return False"
   ]
  },
  {
   "cell_type": "code",
   "execution_count": 20,
   "metadata": {},
   "outputs": [
    {
     "name": "stdout",
     "output_type": "stream",
     "text": [
      "PQueue: \n",
      "(0, 1)->우선순위큐:  [(1, 1, -5.0)]\n",
      "(1, 1)->우선순위큐:  [(1, 2, -4.47213595499958)]\n",
      "(1, 2)->우선순위큐:  [(1, 3, -4.123105625617661), (2, 2, -3.605551275463989)]\n",
      "(2, 2)->우선순위큐:  [(1, 3, -4.123105625617661), (3, 2, -2.8284271247461903)]\n",
      "(3, 2)->우선순위큐:  [(1, 3, -4.123105625617661), (3, 1, -3.605551275463989), (3, 3, -2.23606797749979)]\n",
      "(3, 3)->우선순위큐:  [(1, 3, -4.123105625617661), (3, 1, -3.605551275463989), (3, 4, -2.0)]\n",
      "(3, 4)->우선순위큐:  [(1, 3, -4.123105625617661), (3, 1, -3.605551275463989), (4, 4, -1.0)]\n",
      "(4, 4)->우선순위큐:  [(1, 3, -4.123105625617661), (3, 1, -3.605551275463989), (5, 4, -0.0)]\n",
      "(5, 4)->--> 미로탐색 성공\n"
     ]
    }
   ],
   "source": [
    "map = [[\"1\",\"1\",\"1\",\"1\",\"1\",\"1\"],\n",
    "      [\"e\",\"0\",\"1\",\"0\",\"0\",\"1\"],\n",
    "      [\"1\",\"0\",\"0\",\"0\",\"1\",\"1\"],\n",
    "      [\"1\",\"0\",\"1\",\"0\",\"1\",\"1\"],\n",
    "      [\"1\",\"0\",\"1\",\"0\",\"0\",\"x\"],\n",
    "      [\"1\",\"1\",\"1\",\"1\",\"1\",\"1\"]]\n",
    "\n",
    "MAZE_SIZE = 6\n",
    "result = MySmartSearch()\n",
    "if result:print(\"--> 미로탐색 성공\")\n",
    "else:print(\"--> 미로탐색 실패\")"
   ]
  }
 ],
 "metadata": {
  "kernelspec": {
   "display_name": "Python 3",
   "language": "python",
   "name": "python3"
  },
  "language_info": {
   "codemirror_mode": {
    "name": "ipython",
    "version": 3
   },
   "file_extension": ".py",
   "mimetype": "text/x-python",
   "name": "python",
   "nbconvert_exporter": "python",
   "pygments_lexer": "ipython3",
   "version": "3.8.3"
  }
 },
 "nbformat": 4,
 "nbformat_minor": 4
}
