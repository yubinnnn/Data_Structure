{
 "cells": [
  {
   "cell_type": "markdown",
   "metadata": {},
   "source": [
    "## 연결된 구조\n",
    "- 흩어진 데이터를 링크로 연결해서 관리\n",
    "- 특징:\n",
    "    - 용량이 고정되지 않음\n",
    "    - 중간에 자료를 삽입하거나 삭제하는 것이 용이 => O(1)\n",
    "    - n번째 항목에 접근하는데 O(n)의 시간이 걸림\n",
    "- 구조:\n",
    "    - 노드: 데이터 필드 / 하나 이상의 링크 필드\n",
    "    - 헤드 포인터\n",
    "- 종류:\n",
    "    - 단순 연결 리스트\n",
    "    - 원형 연결 리스트\n",
    "    - 이중 연결 리스트"
   ]
  },
  {
   "cell_type": "markdown",
   "metadata": {},
   "source": [
    "### 단순연결리스트"
   ]
  },
  {
   "cell_type": "code",
   "execution_count": 1,
   "metadata": {},
   "outputs": [],
   "source": [
    "#노드 클래스\n",
    "class Node:\n",
    "    def __init__(self,elem,link=None):\n",
    "        self.data = elem\n",
    "        self.link = link"
   ]
  },
  {
   "cell_type": "code",
   "execution_count": 12,
   "metadata": {},
   "outputs": [],
   "source": [
    "#연결된 스택 클래스\n",
    "class LinkedStack:\n",
    "    def __init__(self):\n",
    "        self.top = None\n",
    "    def isEmpty(self):\n",
    "        return self.top == None\n",
    "    def clear(self): self.top = None\n",
    "    def push(self, item):\n",
    "        n = Node(item, self.top)\n",
    "        self.top = n\n",
    "    def pop(self):\n",
    "        if not self.isEmpty():\n",
    "            n = self.top\n",
    "            self.top = n.link\n",
    "            return n.data\n",
    "    def peek(self):\n",
    "        if not self.isEmpty():\n",
    "            return self.top.data\n",
    "    def size(self):\n",
    "        node = self.top\n",
    "        count = 0\n",
    "        while not node == None:\n",
    "            node = node.link\n",
    "            count += 1\n",
    "        return count\n",
    "    def display(self,msg=\"LinkedStack:\"):\n",
    "        print(msg,end=\"\")\n",
    "        node = self.top\n",
    "        while not node == None :\n",
    "            print(node.data, end=\" \")\n",
    "            node = node.link\n",
    "        print()"
   ]
  },
  {
   "cell_type": "code",
   "execution_count": 13,
   "metadata": {},
   "outputs": [
    {
     "name": "stdout",
     "output_type": "stream",
     "text": [
      "스택 even push 5회: 8 6 4 2 0 \n",
      "스택 odd push 5회: 9 7 5 3 1 \n",
      "스택 even peek:  8\n",
      "스택 odd peek:  9\n",
      "스택 even pop 2회: 4 2 0 \n",
      "스택 odd pop 3회: 3 1 \n"
     ]
    }
   ],
   "source": [
    "odd = LinkedStack()\n",
    "even = LinkedStack()\n",
    "\n",
    "for i in range(10):\n",
    "    if i%2 == 0:\n",
    "        even.push(i)\n",
    "    else:\n",
    "        odd.push(i)\n",
    "\n",
    "even.display(\"스택 even push 5회: \")\n",
    "odd.display(\"스택 odd push 5회: \")\n",
    "print(\"스택 even peek: \", even.peek())\n",
    "print(\"스택 odd peek: \", odd.peek())\n",
    "for _ in range(2):\n",
    "    even.pop()\n",
    "for _ in range(3):\n",
    "    odd.pop()\n",
    "even.display(\"스택 even pop 2회: \")\n",
    "odd.display(\"스택 odd pop 3회: \")"
   ]
  },
  {
   "cell_type": "code",
   "execution_count": 19,
   "metadata": {},
   "outputs": [],
   "source": [
    "#연결 리스트\n",
    "class LinkedList:\n",
    "    def __init__(self):\n",
    "        self.head = None\n",
    "    def isEmpty(self):\n",
    "        return self.head == None\n",
    "    def clear(self): self.head = None\n",
    "    def push(self, item):\n",
    "        n = Node(item, self.top)\n",
    "        self.top = n\n",
    "    def pop(self):\n",
    "        if not self.isEmpty():\n",
    "            n = self.top\n",
    "            self.top = n.link\n",
    "            return n.data\n",
    "    def peek(self):\n",
    "        if not self.isEmpty():\n",
    "            return self.top.data\n",
    "    def size(self):\n",
    "        node = self.head\n",
    "        count = 0\n",
    "        while not node == None:\n",
    "            node = node.link\n",
    "            count += 1\n",
    "        return count\n",
    "    def display(self,msg=\"LinkedList:\"):\n",
    "        print(msg,end=\"\")\n",
    "        node = self.head\n",
    "        while not node == None :\n",
    "            print(node.data, end=\" \")\n",
    "            node = node.link\n",
    "        print()\n",
    "    def getNode(self,pos):\n",
    "        if pos < 0 :\n",
    "            return None\n",
    "        node = self.head\n",
    "        while pos > 0 and node != None:\n",
    "            node = node.link\n",
    "            pos -= 1\n",
    "        return node\n",
    "    def getEntry(self, pos):\n",
    "        node = self.getNode(pos)\n",
    "        if node == None:\n",
    "            return None\n",
    "        else:\n",
    "            return node.data\n",
    "    def replace(self, pos,elem):\n",
    "        node = self.getNode(pos)\n",
    "        if node != None:\n",
    "            node.data = elem\n",
    "    def find(self, data):\n",
    "        node = self.head\n",
    "        while node is not None:\n",
    "            if node.data == data:\n",
    "                return node\n",
    "            node = node.link\n",
    "        return node\n",
    "    \n",
    "    def insert(self,pos,elem):\n",
    "        before = self.getNode(pos-1)\n",
    "        if before == None:\n",
    "            self.head = Node(elem,self.head)\n",
    "        else:\n",
    "            node = Node(elem, before.link)\n",
    "            before.link = node\n",
    "    def delete(self, pos):\n",
    "        before = self.getNode(pos-1)\n",
    "        if before == None:\n",
    "            if self.head is not None:\n",
    "                self.head = self.head.link\n",
    "        elif before.link != None:\n",
    "            before.link = before.link.link"
   ]
  },
  {
   "cell_type": "code",
   "execution_count": 20,
   "metadata": {},
   "outputs": [
    {
     "name": "stdout",
     "output_type": "stream",
     "text": [
      "단순연결리스트로 구현한 리스트(초기상태):\n",
      "단순연결리스트로 구현한 리스트(삽입x5):20 30 50 10 40 \n",
      "단순연결리스트로 구현한 리스트(교체x1):20 30 90 10 40 \n",
      "단순연결리스트로 구현한 리스트(삭제x3):30 10 \n",
      "단순연결리스트로 구현한 리스트(정리후):\n"
     ]
    }
   ],
   "source": [
    "s = LinkedList()\n",
    "s.display(\"단순연결리스트로 구현한 리스트(초기상태):\")\n",
    "s.insert(0,10)\n",
    "s.insert(0,20)\n",
    "s.insert(1,30)\n",
    "s.insert(s.size(),40)\n",
    "s.insert(2,50)\n",
    "s.display(\"단순연결리스트로 구현한 리스트(삽입x5):\")\n",
    "s.replace(2,90)\n",
    "s.display(\"단순연결리스트로 구현한 리스트(교체x1):\")\n",
    "s.delete(2)\n",
    "s.delete(s.size()-1)\n",
    "s.delete(0)\n",
    "s.display(\"단순연결리스트로 구현한 리스트(삭제x3):\")\n",
    "s.clear()\n",
    "s.display(\"단순연결리스트로 구현한 리스트(정리후):\")"
   ]
  },
  {
   "cell_type": "markdown",
   "metadata": {},
   "source": [
    "## 원형연결리스트"
   ]
  },
  {
   "cell_type": "code",
   "execution_count": 23,
   "metadata": {},
   "outputs": [],
   "source": [
    "class CircularLinkedQueue:\n",
    "    def __init__(self):\n",
    "        self.tail = None\n",
    "    def isEmpty(self):\n",
    "        return self.tail == None\n",
    "    def clear(self):\n",
    "        self.tail = None\n",
    "    def peek(self):\n",
    "        if not self.isEmpty():\n",
    "            return self.tail.link.data\n",
    "    def enqueue(self,item):\n",
    "        node = Node(item, None)\n",
    "        if self.isEmpty():\n",
    "            node.link = node\n",
    "            self.tail = node\n",
    "        else:\n",
    "            node.link = self.tail.link\n",
    "            self.tail.link = node\n",
    "            self.tail = node\n",
    "    def dequeue(self):\n",
    "        if not self.isEmpty():\n",
    "            data = self.tail.link.data\n",
    "            if self.tail.link == self.tail:\n",
    "                self.tail = None\n",
    "            else:\n",
    "                self.tail.link = self.tail.link.link\n",
    "            return data\n",
    "    def size(self):\n",
    "        if self.isEmpty():\n",
    "            return 0\n",
    "        else:\n",
    "            count = 1\n",
    "            node = self.tail.link\n",
    "            while not node == self.tail:\n",
    "                node = node.link\n",
    "                count += 1\n",
    "            return count\n",
    "    def display(self, msg=\"CircularLinkedQueue:\"):\n",
    "        print(msg,end = \"\")\n",
    "        if not self.isEmpty():\n",
    "            node = self.tail.link\n",
    "            while not node == self.tail:\n",
    "                print(node.data, end=\" \")\n",
    "                node = node.link\n",
    "            print(node.data, end=\"\")\n",
    "        print()"
   ]
  },
  {
   "cell_type": "code",
   "execution_count": 25,
   "metadata": {},
   "outputs": [
    {
     "name": "stdout",
     "output_type": "stream",
     "text": [
      "CircularLinkedQueue:0 1 2 3 4 5 6 7\n",
      "CircularLinkedQueue:5 6 7\n",
      "CircularLinkedQueue:5 6 7 8 9 10 11 12 13\n"
     ]
    }
   ],
   "source": [
    "q = CircularLinkedQueue()\n",
    "for i in range(8):\n",
    "    q.enqueue(i)\n",
    "q.display()\n",
    "for i in range(5):\n",
    "    q.dequeue()\n",
    "q.display()\n",
    "for i in range(8,14):\n",
    "    q.enqueue(i)\n",
    "q.display()"
   ]
  }
 ],
 "metadata": {
  "kernelspec": {
   "display_name": "Python 3",
   "language": "python",
   "name": "python3"
  },
  "language_info": {
   "codemirror_mode": {
    "name": "ipython",
    "version": 3
   },
   "file_extension": ".py",
   "mimetype": "text/x-python",
   "name": "python",
   "nbconvert_exporter": "python",
   "pygments_lexer": "ipython3",
   "version": "3.8.3"
  }
 },
 "nbformat": 4,
 "nbformat_minor": 4
}
