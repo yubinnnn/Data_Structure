{
 "cells": [
  {
   "cell_type": "code",
   "execution_count": 1,
   "metadata": {},
   "outputs": [],
   "source": [
    "#선형조사\n",
    "class LinearProbing:\n",
    "    def __init__(self, size):\n",
    "        self.M = size\n",
    "        self.a = [None] * size\n",
    "        self.d = [None] * size\n",
    "    def hash(self, key):\n",
    "        return key % self.M\n",
    "    def put(self, key, data):\n",
    "        initial_position = self.hash(key)\n",
    "        i = initial_position\n",
    "        j = 0\n",
    "        while True:\n",
    "            if self.a[i] == None:\n",
    "                self.a[i] = key\n",
    "                self.d[i] = data\n",
    "                return\n",
    "            if self.a[i] == key:\n",
    "                self.d[i] = data\n",
    "                return\n",
    "            j += 1\n",
    "            i = (initial_position + j) % self.M\n",
    "            if i == initial_position:\n",
    "                break\n",
    "    def get(self, key):\n",
    "        initial_position = self.hash(key)\n",
    "        i = initial_position\n",
    "        j = 1\n",
    "        while self.a[i] != None:\n",
    "            if self.a[i] == key:\n",
    "                return self.d[i]\n",
    "            i = (initial_position + j) % self.M\n",
    "            j += 1\n",
    "            if i == initial_position:\n",
    "                return None\n",
    "        return None\n",
    "    def print_table(self):\n",
    "        for i in range(self.M):\n",
    "            print(\"{:4}\".format(str(i)), \" \", end=\"\")\n",
    "        print()\n",
    "        for i in range(self.M):\n",
    "            print(\"{:4}\".format(str(self.a[i])), \" \", end=\"\")\n",
    "        print()       "
   ]
  },
  {
   "cell_type": "code",
   "execution_count": 2,
   "metadata": {},
   "outputs": [
    {
     "ename": "ModuleNotFoundError",
     "evalue": "No module named 'linearprob'",
     "output_type": "error",
     "traceback": [
      "\u001b[1;31m---------------------------------------------------------------------------\u001b[0m",
      "\u001b[1;31mModuleNotFoundError\u001b[0m                       Traceback (most recent call last)",
      "\u001b[1;32m<ipython-input-2-cf76acb0c20c>\u001b[0m in \u001b[0;36m<module>\u001b[1;34m\u001b[0m\n\u001b[1;32m----> 1\u001b[1;33m \u001b[1;32mfrom\u001b[0m \u001b[0mlinearprob\u001b[0m \u001b[1;32mimport\u001b[0m \u001b[0mLinearProbing\u001b[0m\u001b[1;33m\u001b[0m\u001b[1;33m\u001b[0m\u001b[0m\n\u001b[0m\u001b[0;32m      2\u001b[0m \u001b[1;32mif\u001b[0m \u001b[0m__name__\u001b[0m \u001b[1;33m==\u001b[0m \u001b[1;34m\"__main__\"\u001b[0m\u001b[1;33m:\u001b[0m\u001b[1;33m\u001b[0m\u001b[1;33m\u001b[0m\u001b[0m\n\u001b[0;32m      3\u001b[0m     \u001b[0mt\u001b[0m \u001b[1;33m=\u001b[0m \u001b[0mLinearProbing\u001b[0m\u001b[1;33m(\u001b[0m\u001b[1;36m13\u001b[0m\u001b[1;33m)\u001b[0m\u001b[1;33m\u001b[0m\u001b[1;33m\u001b[0m\u001b[0m\n\u001b[0;32m      4\u001b[0m     \u001b[0mt\u001b[0m\u001b[1;33m.\u001b[0m\u001b[0mput\u001b[0m\u001b[1;33m(\u001b[0m\u001b[1;36m25\u001b[0m\u001b[1;33m,\u001b[0m \u001b[1;34m\"grape\"\u001b[0m\u001b[1;33m)\u001b[0m\u001b[1;33m\u001b[0m\u001b[1;33m\u001b[0m\u001b[0m\n\u001b[0;32m      5\u001b[0m     \u001b[0mt\u001b[0m\u001b[1;33m.\u001b[0m\u001b[0mput\u001b[0m\u001b[1;33m(\u001b[0m\u001b[1;36m37\u001b[0m\u001b[1;33m,\u001b[0m \u001b[1;34m\"apple\"\u001b[0m\u001b[1;33m)\u001b[0m\u001b[1;33m\u001b[0m\u001b[1;33m\u001b[0m\u001b[0m\n",
      "\u001b[1;31mModuleNotFoundError\u001b[0m: No module named 'linearprob'"
     ]
    }
   ],
   "source": [
    "from linearprob import LinearProbing\n",
    "if __name__ == \"__main__\":\n",
    "    t = LinearProbing(13)\n",
    "    t.put(25, \"grape\")\n",
    "    t.put(37, \"apple\")\n",
    "    t.put(18, \"banana\")\n",
    "    t.put(55, \"cherry\")\n",
    "    t.put(22, \"mango\")\n",
    "    t.put(35, \"lime\")\n",
    "    t.put(50, \"orange\")\n",
    "    t.put(63, \"watermelon\")\n",
    "    print(\"탐색 결과:\")\n",
    "    print(\"50의 data = \", t.get(50))\n",
    "    print(\"63의 data = \", t.get(63))\n",
    "    print(\"해시테이블:\")\n",
    "    t.print_table()"
   ]
  },
  {
   "cell_type": "code",
   "execution_count": 3,
   "metadata": {},
   "outputs": [],
   "source": [
    "#이차조사\n",
    "class QuadProbing:\n",
    "    def __init__(self, size):\n",
    "        self.M = size\n",
    "        self.a = [None] * size\n",
    "        self.d = [None] * size\n",
    "        self.N = 0\n",
    "    def hash(self, key):\n",
    "        return key % self.M\n",
    "    def put(self, key, data):\n",
    "        initial_position = self.hash(key)\n",
    "        i = initial_position\n",
    "        j = 0\n",
    "        while True:\n",
    "            if self.a[i] == None:\n",
    "                self.a[i] = key\n",
    "                self.d[i] = data\n",
    "                self.N += 1\n",
    "                return\n",
    "            if self.a[i] == key:\n",
    "                self.d[i] = data\n",
    "                return\n",
    "            j += 1\n",
    "            i = (initial_position + j*j) % self.M\n",
    "            if self.N > self.M:\n",
    "                break\n",
    "    def get(self, key):\n",
    "        initial_position = self.hash(key)\n",
    "        i = initial_position\n",
    "        j = 1\n",
    "        while self.a[i] != None:\n",
    "            if self.a[i] == key:\n",
    "                return self.d[i]\n",
    "            i = (initial_position + j*J) % self.M\n",
    "            j += 1\n",
    "        return None"
   ]
  },
  {
   "cell_type": "code",
   "execution_count": 4,
   "metadata": {},
   "outputs": [
    {
     "ename": "ModuleNotFoundError",
     "evalue": "No module named 'quad_prob'",
     "output_type": "error",
     "traceback": [
      "\u001b[1;31m---------------------------------------------------------------------------\u001b[0m",
      "\u001b[1;31mModuleNotFoundError\u001b[0m                       Traceback (most recent call last)",
      "\u001b[1;32m<ipython-input-4-62ca599c10a9>\u001b[0m in \u001b[0;36m<module>\u001b[1;34m\u001b[0m\n\u001b[1;32m----> 1\u001b[1;33m \u001b[1;32mfrom\u001b[0m \u001b[0mquad_prob\u001b[0m \u001b[1;32mimport\u001b[0m \u001b[0mQuadProbing\u001b[0m\u001b[1;33m\u001b[0m\u001b[1;33m\u001b[0m\u001b[0m\n\u001b[0m\u001b[0;32m      2\u001b[0m \u001b[1;32mif\u001b[0m \u001b[0m__name__\u001b[0m \u001b[1;33m==\u001b[0m \u001b[1;34m\"__main__\"\u001b[0m\u001b[1;33m:\u001b[0m\u001b[1;33m\u001b[0m\u001b[1;33m\u001b[0m\u001b[0m\n\u001b[0;32m      3\u001b[0m     \u001b[0mt\u001b[0m \u001b[1;33m=\u001b[0m \u001b[0mLinearProbing\u001b[0m\u001b[1;33m(\u001b[0m\u001b[1;36m13\u001b[0m\u001b[1;33m)\u001b[0m\u001b[1;33m\u001b[0m\u001b[1;33m\u001b[0m\u001b[0m\n\u001b[0;32m      4\u001b[0m     \u001b[0mt\u001b[0m\u001b[1;33m.\u001b[0m\u001b[0mput\u001b[0m\u001b[1;33m(\u001b[0m\u001b[1;36m25\u001b[0m\u001b[1;33m,\u001b[0m \u001b[1;34m\"grape\"\u001b[0m\u001b[1;33m)\u001b[0m\u001b[1;33m\u001b[0m\u001b[1;33m\u001b[0m\u001b[0m\n\u001b[0;32m      5\u001b[0m     \u001b[0mt\u001b[0m\u001b[1;33m.\u001b[0m\u001b[0mput\u001b[0m\u001b[1;33m(\u001b[0m\u001b[1;36m37\u001b[0m\u001b[1;33m,\u001b[0m \u001b[1;34m\"apple\"\u001b[0m\u001b[1;33m)\u001b[0m\u001b[1;33m\u001b[0m\u001b[1;33m\u001b[0m\u001b[0m\n",
      "\u001b[1;31mModuleNotFoundError\u001b[0m: No module named 'quad_prob'"
     ]
    }
   ],
   "source": [
    "from quad_prob import QuadProbing\n",
    "if __name__ == \"__main__\":\n",
    "    t = LinearProbing(13)\n",
    "    t.put(25, \"grape\")\n",
    "    t.put(37, \"apple\")\n",
    "    t.put(18, \"banana\")\n",
    "    t.put(55, \"cherry\")\n",
    "    t.put(22, \"mango\")\n",
    "    t.put(35, \"lime\")\n",
    "    t.put(50, \"orange\")\n",
    "    t.put(63, \"watermelon\")\n",
    "    print(\"탐색 결과:\")\n",
    "    print(\"50의 data = \", t.get(50))\n",
    "    print(\"63의 data = \", t.get(63))\n",
    "    print(\"해시테이블:\")\n",
    "    t.print_table()"
   ]
  },
  {
   "cell_type": "code",
   "execution_count": 6,
   "metadata": {},
   "outputs": [
    {
     "ename": "IndentationError",
     "evalue": "expected an indented block (<ipython-input-6-fbbdc62d2fb3>, line 11)",
     "output_type": "error",
     "traceback": [
      "\u001b[1;36m  File \u001b[1;32m\"<ipython-input-6-fbbdc62d2fb3>\"\u001b[1;36m, line \u001b[1;32m11\u001b[0m\n\u001b[1;33m    if self.a[i] == key:\u001b[0m\n\u001b[1;37m    ^\u001b[0m\n\u001b[1;31mIndentationError\u001b[0m\u001b[1;31m:\u001b[0m expected an indented block\n"
     ]
    }
   ],
   "source": [
    "#랜덤조사\n",
    "import random\n",
    "class RandProbing:\n",
    "    def put(self, key, data):\n",
    "        initial_position = self.hash(key)\n",
    "        i = initial_position\n",
    "        random.seed(1000)\n",
    "        while True:\n",
    "            if self.a[i] == None:\n",
    "                \n",
    "            if self.a[i] == key:\n",
    "                \n",
    "            j = random.randint(1,99)\n",
    "            i = (initial_position+j) % self.M\n",
    "            if self.N > self.M:\n",
    "                break\n",
    "    def get(self, key):\n",
    "        random.seed(1000)\n",
    "        while self.a[i] != None:\n",
    "            i = (initial_position + random.randint(1,99)) % self.M\n",
    "        return None"
   ]
  },
  {
   "cell_type": "code",
   "execution_count": null,
   "metadata": {},
   "outputs": [],
   "source": [
    "#이중해싱\n",
    "class DoubeHashing:\n",
    "    def __init__(self, size):\n",
    "        self.M = size\n",
    "        self.a = [None] * size\n",
    "        self.d = [None] * size\n",
    "        self.N = 0\n",
    "    def hash(self, key):\n",
    "        return key % self.M\n",
    "    def put(self, key, data):\n",
    "        initial_position = self.hash(key)\n",
    "        i = initial_position\n",
    "        d = 7 - (key % 7)\n",
    "        j = 0\n",
    "        while True:\n",
    "            if self.a[i] == None:\n",
    "                self.a[i] = key\n",
    "                self.d[i] = data\n",
    "                self.N += 1\n",
    "                return\n",
    "            if self.a[i] == key:\n",
    "                self.d[i] = data\n",
    "                return\n",
    "            j += 1\n",
    "            i = (initial_position + j*d) % self.M\n",
    "            if self.N > self.M:\n",
    "                break\n",
    "    def get(self, key):\n",
    "        initial_position = self.hash(key)\n",
    "        i = initial_position\n",
    "        d = 7 - (key%7)\n",
    "        j = 0\n",
    "        while self.a[i] != None:\n",
    "            if self.a[i] == key:\n",
    "                return self.d[i]\n",
    "            j += 1\n",
    "            i = (initial_position + j*d) % self.M\n",
    "        return None"
   ]
  }
 ],
 "metadata": {
  "kernelspec": {
   "display_name": "Python 3",
   "language": "python",
   "name": "python3"
  },
  "language_info": {
   "codemirror_mode": {
    "name": "ipython",
    "version": 3
   },
   "file_extension": ".py",
   "mimetype": "text/x-python",
   "name": "python",
   "nbconvert_exporter": "python",
   "pygments_lexer": "ipython3",
   "version": "3.8.3"
  }
 },
 "nbformat": 4,
 "nbformat_minor": 4
}
