{
 "cells": [
  {
   "cell_type": "markdown",
   "metadata": {},
   "source": [
    "### 스택(Stack)\n",
    "- 쌓아놓은 더미\n",
    "- 후입선출: 가장 최근에 들어온 데이터가 가장 먼저 나감\n",
    "\n",
    "#### 스택의 용도\n",
    "- 되돌리기\n",
    "- 함수호출\n",
    "- 괄호 검사\n",
    "- 계산기\n",
    "- 미로 탐색 등\n",
    "\n",
    "#### 스택의 구현(배열 구조)\n",
    "- 데이터\n",
    "    - top: 스택 항목을 저장하는 파이썬 리스트\n",
    "    - 항목의 개수는 len(top)으로 구할 수 있음\n",
    "- 연산: isEmpty(), push(),pop(), peek(), display()\n",
    "- 항목 삽입/삭제 위치: 리스트의 맨 뒤가 유리함."
   ]
  },
  {
   "cell_type": "markdown",
   "metadata": {},
   "source": [
    "#### 스택의 구현(함수 버전)"
   ]
  },
  {
   "cell_type": "code",
   "execution_count": 1,
   "metadata": {},
   "outputs": [],
   "source": [
    "top = []\n",
    "def isEmpty():\n",
    "    return len(top) == 0\n",
    "def push(item):\n",
    "    top.append(item)\n",
    "def pop():\n",
    "    if not isEmpty():\n",
    "        return top.pop(-1)\n",
    "def size():\n",
    "    return len(top)\n",
    "def clear():\n",
    "    global top\n",
    "    top = []"
   ]
  },
  {
   "cell_type": "code",
   "execution_count": 2,
   "metadata": {},
   "outputs": [
    {
     "name": "stdout",
     "output_type": "stream",
     "text": [
      "push 5회:  [1, 2, 3, 4, 5]\n",
      "pop() -->  5\n",
      "pop() -->  4\n",
      "pop 2회:  [1, 2, 3]\n"
     ]
    }
   ],
   "source": [
    "for i in range(1,6): #i=1,2,3,4,5\n",
    "    push(i)\n",
    "print('push 5회: ', top)\n",
    "print('pop() --> ', pop())\n",
    "print('pop() --> ', pop())\n",
    "print('pop 2회: ', top)"
   ]
  },
  {
   "cell_type": "markdown",
   "metadata": {},
   "source": [
    "#### 스택의 활용(클래스 버전)"
   ]
  },
  {
   "cell_type": "code",
   "execution_count": 3,
   "metadata": {},
   "outputs": [],
   "source": [
    "class Stack:\n",
    "    def __init__(self):\n",
    "        self.top=[]\n",
    "    def isEmpty(self):\n",
    "        return len(self.top) == 0\n",
    "    def size(self):\n",
    "        return len(self.top)\n",
    "    def clear(self):\n",
    "        self.top=[] #전역변수 선언 필요 없음\n",
    "    def push(self,item):\n",
    "        self.top.append(item)\n",
    "    def pop(self):\n",
    "        if not self.isEmpty():\n",
    "            return self.top.pop(-1)\n",
    "    def peek(self):\n",
    "        if not self.isEmpty():\n",
    "            return self.top[-1]"
   ]
  },
  {
   "cell_type": "code",
   "execution_count": 4,
   "metadata": {},
   "outputs": [
    {
     "name": "stdout",
     "output_type": "stream",
     "text": [
      "스택 even push 5회:  [0, 2, 4, 6, 8]\n",
      "스택 odd psuch 5회:  [1, 3, 5, 7, 9]\n",
      "스택 even peek: 8\n",
      "스택 odd peek: 9\n",
      "스택 even pop 2회:  [0, 2, 4]\n",
      "스택 odd pop 3회: [1, 3]\n"
     ]
    }
   ],
   "source": [
    "odd = Stack()\n",
    "even = Stack()\n",
    "for i in range(10):\n",
    "    if i%2 == 0:\n",
    "        even.push(i)\n",
    "    else:\n",
    "        odd.push(i)\n",
    "        \n",
    "print('스택 even push 5회: ', even.top)\n",
    "print('스택 odd psuch 5회: ', odd.top)\n",
    "print('스택 even peek:', even.peek())\n",
    "print('스택 odd peek:', odd.peek())\n",
    "\n",
    "for _ in range(2):\n",
    "    even.pop()\n",
    "for _ in range(3):\n",
    "    odd.pop()\n",
    "\n",
    "print('스택 even pop 2회: ', even.top)\n",
    "print('스택 odd pop 3회:', odd.top)"
   ]
  },
  {
   "cell_type": "markdown",
   "metadata": {},
   "source": [
    "#### 스택의 응용: 괄호 검사"
   ]
  },
  {
   "cell_type": "code",
   "execution_count": 5,
   "metadata": {},
   "outputs": [],
   "source": [
    "def checkBrackets(statement):\n",
    "    stack = Stack()\n",
    "    for ch in statement:\n",
    "        if ch in (\"{\",\"[\",\"(\"):\n",
    "            stack.push(ch)\n",
    "        elif ch in (\"}\",\"]\",\")\"):\n",
    "            if stack.isEmpty():\n",
    "                return False\n",
    "            else:\n",
    "                left = stack.pop()\n",
    "                if (ch == \"}\" and left != \"{\") or (ch == \"]\" and left != \"[\") or (ch == \")\" and left != \"(\"):\n",
    "                    return False\n",
    "                \n",
    "    return stack.isEmpty()"
   ]
  },
  {
   "cell_type": "code",
   "execution_count": 6,
   "metadata": {},
   "outputs": [
    {
     "name": "stdout",
     "output_type": "stream",
     "text": [
      "{ A[(i+1)]=0}  -->  True\n",
      "if( (i==0) && (j==0)  -->  False\n",
      "A[(i+1])=0;  -->  False\n"
     ]
    }
   ],
   "source": [
    "str = (\"{ A[(i+1)]=0}\",\"if( (i==0) && (j==0)\",\"A[(i+1])=0;\")\n",
    "for s in str:\n",
    "    m = checkBrackets(s)\n",
    "    print(s,\" --> \",m)"
   ]
  },
  {
   "cell_type": "markdown",
   "metadata": {},
   "source": [
    "#### 후위 표기 수식 계산 알고리즘"
   ]
  },
  {
   "cell_type": "code",
   "execution_count": 7,
   "metadata": {},
   "outputs": [],
   "source": [
    "def evalPostfix(expr):\n",
    "    s = Stack()\n",
    "    for token in expr:\n",
    "        if token in \"+-*/\":\n",
    "            val2 = s.pop()\n",
    "            val1 = s.pop()\n",
    "            if (token == \"+\"):s.push(val1+val2)\n",
    "            elif (token == \"-\"):s.push(val1-val2)\n",
    "            elif (token == \"*\"):s.push(val1*val2)\n",
    "            elif (token == \"/\"):s.push(val1/val2)\n",
    "        else:\n",
    "            s.push(float(token))\n",
    "            \n",
    "    return s.pop()"
   ]
  },
  {
   "cell_type": "code",
   "execution_count": 8,
   "metadata": {},
   "outputs": [
    {
     "name": "stdout",
     "output_type": "stream",
     "text": [
      "['8', '2', '/', '3', '-', '3', '2', '*', '+'] --> 7.0\n",
      "['1', '2', '/', '4', '*', '1', '4', '/', '*'] --> 0.5\n"
     ]
    }
   ],
   "source": [
    "expr1 = [\"8\",\"2\",\"/\",\"3\",\"-\",\"3\",\"2\",\"*\",\"+\"]\n",
    "expr2 = [\"1\",\"2\",\"/\",\"4\",\"*\",\"1\",\"4\",\"/\",\"*\"]\n",
    "print(expr1,'-->', evalPostfix(expr1))\n",
    "print(expr2,'-->', evalPostfix(expr2))"
   ]
  },
  {
   "cell_type": "markdown",
   "metadata": {},
   "source": [
    "#### 중위->후위 변환 알고리즘"
   ]
  },
  {
   "cell_type": "code",
   "execution_count": 12,
   "metadata": {},
   "outputs": [],
   "source": [
    "def precedence(op):\n",
    "    if op==\"(\" or op==\")\":\n",
    "        return 0\n",
    "    elif op==\"+\" or op==\"-\":\n",
    "        return 1\n",
    "    elif op == \"*\" or op==\"/\":\n",
    "        return 2\n",
    "    else:\n",
    "        return -1\n",
    "\n",
    "def Infix2Postfix(expr):\n",
    "    s = Stack()\n",
    "    output = []\n",
    "    for term in expr:\n",
    "        if term in \"(\":\n",
    "            s.push(\"(\")\n",
    "        elif term in \")\":\n",
    "            while not s.isEmpty():\n",
    "                op = s.pop()\n",
    "                if op==\"(\" :\n",
    "                    break;\n",
    "                else:\n",
    "                    output.append(op)\n",
    "        elif term in \"+-*/\":\n",
    "            while not s.isEmpty():\n",
    "                op = s.peek()\n",
    "                if (precedence(term)<= precedence(op)):\n",
    "                    output.append(op)\n",
    "                    s.pop()\n",
    "                else:\n",
    "                    break\n",
    "            s.push(term)\n",
    "        else:\n",
    "            output.append(term)\n",
    "    while not s.isEmpty():\n",
    "        output.append(s.pop())\n",
    "    \n",
    "    return output"
   ]
  },
  {
   "cell_type": "code",
   "execution_count": 13,
   "metadata": {},
   "outputs": [
    {
     "name": "stdout",
     "output_type": "stream",
     "text": [
      "중위표기: ['8', '/', '2', '-', '3', '+', '(', '3', '*', '2', ')']\n",
      "후위표기: ['8', '2', '/', '3', '-', '3', '2', '*', '+']\n",
      "계산결과: 7.0\n",
      "\n",
      "중위표기: ['1', '/', '2', '*', '4', '*', '(', '1', '/', '4', ')']\n",
      "후위표기: ['1', '2', '/', '4', '*', '1', '4', '/', '*']\n",
      "계산결과: 0.5\n"
     ]
    }
   ],
   "source": [
    "infix1 = [\"8\",\"/\",\"2\",\"-\",\"3\",\"+\",\"(\",\"3\",\"*\",\"2\",\")\"]\n",
    "infix2 = [\"1\",\"/\",\"2\",\"*\",\"4\",\"*\",\"(\",\"1\",\"/\",\"4\",\")\"]\n",
    "postfix1 = Infix2Postfix(infix1)\n",
    "postfix2 = Infix2Postfix(infix2)\n",
    "result1 = evalPostfix(postfix1)\n",
    "result2 = evalPostfix(postfix2)\n",
    "\n",
    "print(\"중위표기:\", infix1)\n",
    "print(\"후위표기:\", postfix1)\n",
    "print(\"계산결과:\", result1, end=\"\\n\\n\")\n",
    "print(\"중위표기:\", infix2)\n",
    "print(\"후위표기:\", postfix2)\n",
    "print(\"계산결과:\", result2)"
   ]
  },
  {
   "cell_type": "markdown",
   "metadata": {},
   "source": [
    "#### 깊이우선탐색 알고리즘"
   ]
  },
  {
   "cell_type": "code",
   "execution_count": 19,
   "metadata": {},
   "outputs": [
    {
     "name": "stdout",
     "output_type": "stream",
     "text": [
      "DFS: \n",
      "(0, 1)->현재 스택: [(1, 1)]\n",
      "(1, 1)->현재 스택: [(1, 2), (2, 1)]\n",
      "(2, 1)->현재 스택: [(1, 2), (3, 1)]\n",
      "(3, 1)->현재 스택: [(1, 2), (3, 2), (4, 1)]\n",
      "(4, 1)->현재 스택: [(1, 2), (3, 2)]\n",
      "(3, 2)->현재 스택: [(1, 2), (3, 3)]\n",
      "(3, 3)->현재 스택: [(1, 2), (3, 4), (4, 3)]\n",
      "(4, 3)->현재 스택: [(1, 2), (3, 4), (5, 3)]\n",
      "(5, 3)->--> 미로탐색 성공\n"
     ]
    }
   ],
   "source": [
    "def isValidPos(x,y):\n",
    "    if x < 0 or y<0 or x>=MAZE_SIZE or y >= MAZE_SIZE:\n",
    "        return False\n",
    "    else:\n",
    "        return map[y][x] == \"0\" or map[y][x] == \"x\"\n",
    "    \n",
    "def DFS():\n",
    "    stack = Stack()\n",
    "    stack.push((0,1))\n",
    "    print(\"DFS: \")\n",
    "    \n",
    "    while not stack.isEmpty():\n",
    "        here = stack.pop()\n",
    "        print(here,end=\"->\")\n",
    "        (x,y) = here\n",
    "        if (map[y][x]==\"x\"):\n",
    "            return True\n",
    "        else:\n",
    "            map[y][x]=\".\"\n",
    "            \n",
    "            if isValidPos(x,y-1):\n",
    "                stack.push((x,y-1))\n",
    "            if isValidPos(x,y+1):\n",
    "                stack.push((x,y+1))\n",
    "            if isValidPos(x-1,y):\n",
    "                stack.push((x-1,y))\n",
    "            if isValidPos(x+1,y):\n",
    "                stack.push((x+1,y))\n",
    "        print(\"현재 스택:\", stack.top)\n",
    "    return False\n",
    "\n",
    "map = [[\"1\",\"1\",\"1\",\"1\",\"1\",\"1\"],\n",
    "      [\"e\",\"0\",\"0\",\"0\",\"0\",\"1\"],\n",
    "      [\"1\",\"0\",\"1\",\"0\",\"1\",\"1\"],\n",
    "      [\"1\",\"1\",\"1\",\"0\",\"0\",\"x\"],\n",
    "      [\"1\",\"1\",\"1\",\"0\",\"1\",\"1\"],\n",
    "      [\"1\",\"1\",\"1\",\"1\",\"1\",\"1\"]]\n",
    "\n",
    "MAZE_SIZE = 6\n",
    "result = DFS()\n",
    "if result:\n",
    "    print(\"--> 미로탐색 성공\")\n",
    "else:\n",
    "    print(\"--> 미로탐색 실패\")"
   ]
  }
 ],
 "metadata": {
  "kernelspec": {
   "display_name": "Python 3",
   "language": "python",
   "name": "python3"
  },
  "language_info": {
   "codemirror_mode": {
    "name": "ipython",
    "version": 3
   },
   "file_extension": ".py",
   "mimetype": "text/x-python",
   "name": "python",
   "nbconvert_exporter": "python",
   "pygments_lexer": "ipython3",
   "version": "3.8.3"
  }
 },
 "nbformat": 4,
 "nbformat_minor": 4
}
