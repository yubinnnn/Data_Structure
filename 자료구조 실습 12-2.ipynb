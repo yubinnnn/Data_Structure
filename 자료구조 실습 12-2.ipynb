{
 "cells": [
  {
   "cell_type": "code",
   "execution_count": 1,
   "metadata": {},
   "outputs": [
    {
     "name": "stdout",
     "output_type": "stream",
     "text": [
      "정렬 전:\t[54, 88, 77, 26, 93, 17, 49, 10, 17, 77, 11, 31, 22, 44, 17, 20]\n",
      "정렬 후:\t[10, 11, 17, 17, 17, 20, 22, 26, 31, 44, 49, 54, 77, 77, 88, 93]\n"
     ]
    }
   ],
   "source": [
    "#선택정렬\n",
    "def selection_sort(a):\n",
    "    for i in range(0, len(a)-1):\n",
    "        minimum = i\n",
    "        for j in range(i,len(a)):\n",
    "            if a[minimum] > a[j]:\n",
    "                minimum = j\n",
    "        a[i], a[minimum] = a[minimum], a[i]\n",
    "\n",
    "a = [54, 88, 77, 26, 93, 17, 49, 10, 17, 77, 11, 31, 22, 44, 17, 20]\n",
    "print(\"정렬 전:\\t\", end=\"\")\n",
    "print(a)\n",
    "selection_sort(a)\n",
    "print(\"정렬 후:\\t\", end=\"\")\n",
    "print(a)"
   ]
  },
  {
   "cell_type": "code",
   "execution_count": 2,
   "metadata": {},
   "outputs": [
    {
     "name": "stdout",
     "output_type": "stream",
     "text": [
      "정렬 전:\t[54, 88, 77, 26, 93, 17, 49, 10, 17, 77, 11, 31, 22, 44, 17, 20]\n",
      "정렬 후:\t[10, 11, 17, 17, 17, 20, 22, 26, 31, 44, 49, 54, 77, 77, 88, 93]\n"
     ]
    }
   ],
   "source": [
    "#삽입 정렬\n",
    "def insertion_sort(a):\n",
    "    for i in range(1, len(a)):\n",
    "        for j in range(i, 0, -1):\n",
    "            if a[j-1] > a[j]:\n",
    "                a[j], a[j-1] = a[j-1], a[j]\n",
    "\n",
    "a = [54, 88, 77, 26, 93, 17, 49, 10, 17, 77, 11, 31, 22, 44, 17, 20]\n",
    "print(\"정렬 전:\\t\", end=\"\")\n",
    "print(a)\n",
    "insertion_sort(a)\n",
    "print(\"정렬 후:\\t\", end=\"\")\n",
    "print(a)"
   ]
  },
  {
   "cell_type": "code",
   "execution_count": 3,
   "metadata": {},
   "outputs": [
    {
     "name": "stdout",
     "output_type": "stream",
     "text": [
      "정렬 전:\t[54, 88, 77, 26, 93, 17, 49, 10, 17, 77, 11, 31, 22, 44, 17, 20]\n",
      "정렬 후:\t[10, 11, 17, 17, 17, 20, 22, 26, 31, 44, 49, 54, 77, 77, 88, 93]\n"
     ]
    }
   ],
   "source": [
    "#쉘정렬\n",
    "def shell_sort(a):\n",
    "    h = 4\n",
    "    while h >= 1:\n",
    "        for i in range(h, len(a)):\n",
    "            j = i\n",
    "            while j >= h and a[j] < a[j-h]:\n",
    "                a[j], a[j-h] = a[j-h], a[j]\n",
    "                j -= h\n",
    "        h //=3\n",
    "        \n",
    "a = [54, 88, 77, 26, 93, 17, 49, 10, 17, 77, 11, 31, 22, 44, 17, 20]\n",
    "print(\"정렬 전:\\t\", end=\"\")\n",
    "print(a)\n",
    "shell_sort(a)\n",
    "print(\"정렬 후:\\t\", end=\"\")\n",
    "print(a)"
   ]
  },
  {
   "cell_type": "code",
   "execution_count": 4,
   "metadata": {},
   "outputs": [
    {
     "name": "stdout",
     "output_type": "stream",
     "text": [
      "정렬 전:\t[-1, 54, 88, 77, 26, 93, 17, 49, 10, 17, 77, 11, 31, 22, 44, 17, 20]\n",
      "최대힙:\t[-1, 93, 88, 77, 26, 77, 31, 49, 20, 17, 54, 11, 17, 22, 44, 17, 10]\n",
      "정렬 후:\t[-1, 10, 11, 17, 17, 17, 20, 22, 26, 31, 44, 49, 54, 77, 77, 88, 93]\n"
     ]
    }
   ],
   "source": [
    "#힙정렬\n",
    "def downheap(i, size):\n",
    "    while 2*i <= size:\n",
    "        k = 2*i\n",
    "        if k < size and a[k] < a[k+1]:\n",
    "            k += 1\n",
    "        if a[i] >= a[k]:\n",
    "            break\n",
    "        a[i], a[k] = a[k], a[i]\n",
    "        i = k\n",
    "def create_heap(a):\n",
    "    hsize = len(a) - 1\n",
    "    for i in reversed(range(1,hsize//2+1)):\n",
    "        downheap(i, hsize)\n",
    "        \n",
    "def heap_sort(a):\n",
    "    N = len(a) - 1\n",
    "    for i in range(N):\n",
    "        a[1], a[N] = a[N], a[1]\n",
    "        downheap(1, N-1)\n",
    "        N -= 1\n",
    "        \n",
    "a = [-1,54, 88, 77, 26, 93, 17, 49, 10, 17, 77, 11, 31, 22, 44, 17, 20]\n",
    "print(\"정렬 전:\\t\", end=\"\")\n",
    "print(a)\n",
    "create_heap(a)\n",
    "print(\"최대힙:\\t\", end=\"\")\n",
    "print(a)\n",
    "heap_sort(a)\n",
    "print(\"정렬 후:\\t\", end=\"\")\n",
    "print(a)"
   ]
  },
  {
   "cell_type": "code",
   "execution_count": 5,
   "metadata": {},
   "outputs": [
    {
     "name": "stdout",
     "output_type": "stream",
     "text": [
      "정렬전:\t [54, 88, 77, 26, 93, 17, 49, 10, 17, 77, 11, 31, 22, 44, 17, 20]\n",
      "힙:\t [10, 11, 17, 17, 54, 17, 44, 20, 88, 77, 93, 31, 22, 77, 49, 26]\n",
      "정렬후:\t [10, 11, 17, 17, 17, 20, 22, 26, 31, 44, 49, 54, 77, 77, 88, 93]\n"
     ]
    }
   ],
   "source": [
    "#파이썬의 heapq를 이용한 힙정렬\n",
    "import heapq\n",
    "a = [54, 88, 77, 26, 93, 17, 49, 10, 17, 77, 11, 31, 22, 44, 17, 20]\n",
    "print(\"정렬전:\\t\", a)\n",
    "\n",
    "heapq.heapify(a)\n",
    "print(\"힙:\\t\",a)\n",
    "\n",
    "s=[]\n",
    "while a:\n",
    "    s.append(heapq.heappop(a))\n",
    "print(\"정렬후:\\t\",s)"
   ]
  },
  {
   "cell_type": "code",
   "execution_count": 6,
   "metadata": {},
   "outputs": [
    {
     "name": "stdout",
     "output_type": "stream",
     "text": [
      "정렬 전:\t[54, 88, 77, 26, 93, 17, 49, 10, 17, 77, 11, 31, 22, 44, 17, 20]\n",
      "정렬 후:\t[10, 11, 17, 17, 17, 20, 22, 26, 31, 44, 49, 54, 77, 77, 88, 93]\n"
     ]
    }
   ],
   "source": [
    "#합병 정렬\n",
    "def merge(a,b,low,mid,high):\n",
    "    i = low\n",
    "    j = mid+1\n",
    "    for k in range(low, high+1):\n",
    "        if i > mid:\n",
    "            b[k] = a[j]\n",
    "            j += 1\n",
    "        elif j > high:\n",
    "            b[k] = a[i]\n",
    "            i += 1\n",
    "        elif a[j] < a[i]:\n",
    "            b[k] = a[j]\n",
    "            j += 1\n",
    "        else:\n",
    "            b[k] = a[i]\n",
    "            i += 1\n",
    "    for k in range(low, high+1):\n",
    "        a[k] = b[k]\n",
    "        \n",
    "def merge_sort(a,b,low,high):\n",
    "    if high <= low:\n",
    "        return\n",
    "    mid = low + (high-low) // 2\n",
    "    merge_sort(a,b,low,mid)\n",
    "    merge_sort(a,b,mid+1, high)\n",
    "    merge(a,b,low,mid,high)\n",
    "\n",
    "a = [54, 88, 77, 26, 93, 17, 49, 10, 17, 77, 11, 31, 22, 44, 17, 20]\n",
    "b = [None] * len(a)\n",
    "print(\"정렬 전:\\t\", end=\"\")\n",
    "print(a)\n",
    "merge_sort(a,b,0,len(a)-1)\n",
    "print(\"정렬 후:\\t\",end=\"\")\n",
    "print(a)"
   ]
  },
  {
   "cell_type": "code",
   "execution_count": null,
   "metadata": {},
   "outputs": [],
   "source": [
    "#퀵정렬\n",
    "def qsort(a,low,high):\n",
    "    if low < high:\n",
    "        pivot = partition(a,low,high)\n",
    "        qsort(a,low,pivot-1)\n",
    "        qsort(a,pivot+1,high)\n",
    "\n",
    "def partition(a,pivot,high):\n",
    "    i = pivot+1\n",
    "    j = high\n",
    "    while True:\n",
    "        while i < high and a[i] < a[pivot]:\n",
    "            i += 1\n",
    "        while j > pivot and a[j] > a[pivot]:\n",
    "            j -= 1\n",
    "        if j <= i:\n",
    "            break\n",
    "        a[i], a[j] = a[j], a[i]\n",
    "        i += 1\n",
    "        j -= 1\n",
    "    \n",
    "    a[pivot], a[j] = a[j], a[pivot]\n",
    "    return j\n",
    "\n",
    "a = [54, 88, 77, 26, 93, 17, 49, 10, 17, 77, 11, 31, 22, 44, 17, 20]\n",
    "print(\"정렬 전:\\t\", a)\n",
    "qsort(a,0,len(a)-1)\n",
    "print(\"정렬 후:\\t\", a)"
   ]
  }
 ],
 "metadata": {
  "kernelspec": {
   "display_name": "Python 3",
   "language": "python",
   "name": "python3"
  },
  "language_info": {
   "codemirror_mode": {
    "name": "ipython",
    "version": 3
   },
   "file_extension": ".py",
   "mimetype": "text/x-python",
   "name": "python",
   "nbconvert_exporter": "python",
   "pygments_lexer": "ipython3",
   "version": "3.8.3"
  }
 },
 "nbformat": 4,
 "nbformat_minor": 4
}
