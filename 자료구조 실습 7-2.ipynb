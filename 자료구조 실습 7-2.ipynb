{
 "cells": [
  {
   "cell_type": "code",
   "execution_count": 4,
   "metadata": {},
   "outputs": [],
   "source": [
    "class BinaryTree:\n",
    "    class Node:\n",
    "        def __init__(self, item, left=None, right = None):\n",
    "            self.item = item\n",
    "            self.left = left\n",
    "            self.right = right\n",
    "    def __init__(self):\n",
    "        self.root = None\n",
    "    def preorder(self, n):\n",
    "        if n!=None:\n",
    "            print(str(n.item), \" \", end=\" \")\n",
    "            if n.left:\n",
    "                self.preorder(n.left)\n",
    "            if n.right:\n",
    "                self.preorder(n.right)\n",
    "    def inorder(self,n):\n",
    "        if n!= None:\n",
    "            if n.left:\n",
    "                self.inorder(n.left)\n",
    "            print(str(n.item),\" \",end=\"\")\n",
    "            if n.right:\n",
    "                self.inorder(n.right)\n",
    "    def postorder(self, n):\n",
    "        if n!= None:\n",
    "            if n.left:\n",
    "                self.postorder(n.left)\n",
    "            if n.right:\n",
    "                self.postorder(n.right)\n",
    "                print(str(n.item),\" \", end=\" \")\n",
    "    def levelorder(self, root):\n",
    "        q = []\n",
    "        q.append(root)\n",
    "        while len(q) != 0:\n",
    "            t = q.pop(0)\n",
    "            print(str(n.item), \"\", end = \"\")\n",
    "            if t.left != None:\n",
    "                q.append(t.left)\n",
    "            if t.right != None:\n",
    "                q.append(t.rignt)\n",
    "    def height(self, root):\n",
    "        if root == None:\n",
    "            return 0\n",
    "        return max(self.height(root.left), self.height(root.right))+1"
   ]
  },
  {
   "cell_type": "code",
   "execution_count": 7,
   "metadata": {},
   "outputs": [
    {
     "ename": "ModuleNotFoundError",
     "evalue": "No module named 'binarytree'",
     "output_type": "error",
     "traceback": [
      "\u001b[1;31m---------------------------------------------------------------------------\u001b[0m",
      "\u001b[1;31mModuleNotFoundError\u001b[0m                       Traceback (most recent call last)",
      "\u001b[1;32m<ipython-input-7-a17b633b47ec>\u001b[0m in \u001b[0;36m<module>\u001b[1;34m\u001b[0m\n\u001b[1;32m----> 1\u001b[1;33m \u001b[1;32mfrom\u001b[0m \u001b[0mbinarytree\u001b[0m \u001b[1;32mimport\u001b[0m \u001b[0mBinaryTree\u001b[0m\u001b[1;33m,\u001b[0m \u001b[0mNode\u001b[0m\u001b[1;33m\u001b[0m\u001b[1;33m\u001b[0m\u001b[0m\n\u001b[0m\u001b[0;32m      2\u001b[0m \u001b[1;32mif\u001b[0m \u001b[0m__name__\u001b[0m \u001b[1;33m==\u001b[0m \u001b[1;34m'__main__'\u001b[0m\u001b[1;33m:\u001b[0m\u001b[1;33m\u001b[0m\u001b[1;33m\u001b[0m\u001b[0m\n\u001b[0;32m      3\u001b[0m     \u001b[0mt\u001b[0m \u001b[1;33m=\u001b[0m \u001b[0mBinaryTree\u001b[0m\u001b[1;33m(\u001b[0m\u001b[1;33m)\u001b[0m\u001b[1;33m\u001b[0m\u001b[1;33m\u001b[0m\u001b[0m\n\u001b[0;32m      4\u001b[0m     \u001b[0mn1\u001b[0m \u001b[1;33m=\u001b[0m \u001b[0mNode\u001b[0m\u001b[1;33m(\u001b[0m\u001b[1;36m100\u001b[0m\u001b[1;33m)\u001b[0m\u001b[1;33m\u001b[0m\u001b[1;33m\u001b[0m\u001b[0m\n\u001b[0;32m      5\u001b[0m     \u001b[0mn2\u001b[0m \u001b[1;33m=\u001b[0m \u001b[0mNode\u001b[0m\u001b[1;33m(\u001b[0m\u001b[1;36m200\u001b[0m\u001b[1;33m)\u001b[0m\u001b[1;33m\u001b[0m\u001b[1;33m\u001b[0m\u001b[0m\n",
      "\u001b[1;31mModuleNotFoundError\u001b[0m: No module named 'binarytree'"
     ]
    }
   ],
   "source": [
    "from binarytree import BinaryTree, Node\n",
    "if __name__ == '__main__':\n",
    "    t = BinaryTree()\n",
    "    n1 = Node(100)\n",
    "    n2 = Node(200)\n",
    "    n3 = Node(300)\n",
    "    n4 = Node(400)\n",
    "    n5 = Node(500)\n",
    "    n6 = Node(600)\n",
    "    n7 = Node(700)\n",
    "    n8 = Node(800)\n",
    "    n1.left = n2\n",
    "    n1.right = n3\n",
    "    n2.left = n4\n",
    "    n2.right = n5\n",
    "    n3.left = n6\n",
    "    n3.right = n7\n",
    "    n4.left = n8\n",
    "    t.root = n1\n",
    "    print(\"트리 높이 = \", t.height(t.root))\n",
    "    print(\"전위순회:\\t\", end = \"\")\n",
    "    t.preorder(t.root)\n",
    "\n",
    "    print(\"\\n중위순회:\\t\", end = \"\")\n",
    "    t.inorder(t.root)\n",
    "\n",
    "    print(\"\\n후위순회:\\t\", end = \"\")\n",
    "    t.postorder(t.root)\n",
    "\n",
    "    print(\"\\n레벨순회:\\t\", end = \"\")\n",
    "    t.levelorder(t.root)"
   ]
  },
  {
   "cell_type": "code",
   "execution_count": 8,
   "metadata": {},
   "outputs": [],
   "source": [
    "def size(self, root):\n",
    "    if root is None:\n",
    "        return 0 \n",
    "    else:\n",
    "        return 1+self.size(root.left)+self.size(root.right)"
   ]
  }
 ],
 "metadata": {
  "kernelspec": {
   "display_name": "Python 3",
   "language": "python",
   "name": "python3"
  },
  "language_info": {
   "codemirror_mode": {
    "name": "ipython",
    "version": 3
   },
   "file_extension": ".py",
   "mimetype": "text/x-python",
   "name": "python",
   "nbconvert_exporter": "python",
   "pygments_lexer": "ipython3",
   "version": "3.8.3"
  }
 },
 "nbformat": 4,
 "nbformat_minor": 4
}
